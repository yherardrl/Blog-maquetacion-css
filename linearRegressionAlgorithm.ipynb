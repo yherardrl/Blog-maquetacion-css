{
  "nbformat": 4,
  "nbformat_minor": 0,
  "metadata": {
    "colab": {
      "name": "linearRegressionAlgorithm.ipynb",
      "provenance": [],
      "authorship_tag": "ABX9TyOAy3xyLWVYDafWBJhI6/T4",
      "include_colab_link": true
    },
    "kernelspec": {
      "name": "python3",
      "display_name": "Python 3"
    },
    "language_info": {
      "name": "python"
    }
  },
  "cells": [
    {
      "cell_type": "markdown",
      "metadata": {
        "id": "view-in-github",
        "colab_type": "text"
      },
      "source": [
        "<a href=\"https://colab.research.google.com/github/yherardrl/Blog-maquetacion-css/blob/master/linearRegressionAlgorithm.ipynb\" target=\"_parent\"><img src=\"https://colab.research.google.com/assets/colab-badge.svg\" alt=\"Open In Colab\"/></a>"
      ]
    },
    {
      "cell_type": "code",
      "metadata": {
        "id": "VQFFL-CuJ4U0"
      },
      "source": [
        "import numpy as np\n",
        "import matplotlib.pyplot as plt "
      ],
      "execution_count": 2,
      "outputs": []
    },
    {
      "cell_type": "code",
      "metadata": {
        "id": "VED2mD7yMtYF"
      },
      "source": [
        "def estimate_b0_b1(x, y):\n",
        "    n = np.size(x)\n",
        "    #obtenemos los promedios de X y de Y \n",
        "    m_x, m_y = np.mean(x), np.mean(y)\n",
        "\n",
        "    #calcular la sumatoria de xy y mi sumatorio de xx\n",
        "    summation_xy = np.sum((x-m_x)*(y-m_y))\n",
        "    summation_xx = np.sum(x*(x-m_x))\n",
        "\n",
        "    #coeficiente de regresión\n",
        "    b_1 = summation_xy / summation_xx\n",
        "    b_0 = m_y - b_1*m_x\n",
        "\n",
        "    return (b_0, b_1)"
      ],
      "execution_count": 3,
      "outputs": []
    },
    {
      "cell_type": "code",
      "metadata": {
        "id": "jR_cilesTifM"
      },
      "source": [
        "#funcion para graficar\n",
        "def plot_regression(x, y, b):\n",
        "    plt.scatter(x, y, color = 'g', marker='o', s = 30)\n",
        "\n",
        "    y_pred = b[0] + b[1]*x\n",
        "    plt.plot(x, y_pred, color = 'b')\n",
        "\n",
        "    #etiquetado\n",
        "    plt.xlabel('x_independent')\n",
        "    plt.ylabel('y_dependent')\n",
        "\n",
        "    plt.show()"
      ],
      "execution_count": 5,
      "outputs": []
    },
    {
      "cell_type": "code",
      "metadata": {
        "colab": {
          "base_uri": "https://localhost:8080/",
          "height": 297
        },
        "id": "3Z9wBb91UhN7",
        "outputId": "f8a7794f-d9ed-4a7d-b7ef-b4c3a4bd2a23"
      },
      "source": [
        "#Codigo main\n",
        "def main():\n",
        "    #DATASET\n",
        "    x= np.array([1,2,3,4,5])\n",
        "    y= np.array([2,3,5,6,5])\n",
        "\n",
        "    #Obtenemos b1, b2\n",
        "    b = estimate_b0_b1(x,y)\n",
        "    print('los valores de b0 ={}, b1 = {}'.format(b[0], b[1]))\n",
        "\n",
        "    #Graficamos nuestra linea de regresion\n",
        "    plot_regression(x, y, b)\n",
        "\n",
        "\n",
        "if __name__ == '__main__':\n",
        "    main()"
      ],
      "execution_count": 6,
      "outputs": [
        {
          "output_type": "stream",
          "text": [
            "los valores de b0 =1.5, b1 = 0.9\n"
          ],
          "name": "stdout"
        },
        {
          "output_type": "display_data",
          "data": {
            "image/png": "[encoded data removed]",
            "text/plain": [
              "<Figure size 432x288 with 1 Axes>"
            ]
          },
          "metadata": {
            "tags": [],
            "needs_background": "light"
          }
        }
      ]
    },
    {
      "cell_type": "markdown",
      "metadata": {
        "id": "trwTIWFtYykR"
      },
      "source": [
        ""
      ]
    }
  ]
}